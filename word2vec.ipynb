{
 "cells": [
  {
   "cell_type": "code",
   "execution_count": 1,
   "metadata": {},
   "outputs": [],
   "source": [
    "from tokenizers import BertWordPieceTokenizer, normalizers\n",
    "import multiprocessing\n",
    "import torch\n",
    "import numpy as np\n",
    "from torch import nn\n",
    "from torch.nn import functional as F\n",
    "import time\n",
    "import tqdm\n",
    "import string\n",
    "import mmap\n",
    "import os\n",
    "import glob\n",
    "from gensim.models import Word2Vec\n",
    "from gensim.models.callbacks import CallbackAny2Vec\n",
    "np.random.seed(seed=1)\n",
    "torch.manual_seed(1)\n",
    "os.environ[\"TOKENIZERS_PARALLELISM\"] = \"false\"\n",
    "CONTEXT_SIZE = 4\n",
    "EMBEDDING_DIM = 512\n",
    "files = [name for name in glob.glob('data/archive (2)/arwiki_books_shards/content/sharded/*.txt')] \n",
    "np.random.shuffle(files)\n",
    "vocab_path = 'data/archive (2)/ar_bert32k-vocab.txt'\n",
    "tokenizer = BertWordPieceTokenizer(vocab_path,strip_accents=False)\n",
    "max_length=2*CONTEXT_SIZE+1"
   ]
  },
  {
   "cell_type": "markdown",
   "metadata": {},
   "source": [
    "# building Word2Vec from scratch"
   ]
  },
  {
   "cell_type": "code",
   "execution_count": 2,
   "metadata": {},
   "outputs": [],
   "source": [
    "class SkipGramDataset(torch.utils.data.IterableDataset):\n",
    "    def __init__(self, files,context_size):\n",
    "        super(SkipGramDataset).__init__()\n",
    "        self.files=files\n",
    "        self.context_size=context_size\n",
    "        self.max_length=2*context_size+1\n",
    "        self.translator=str.maketrans('', '', string.punctuation+'،؟')\n",
    "        self.chunk_size=8192\n",
    "\n",
    "\n",
    "    \n",
    "    def __iter__(self):\n",
    "        worker_info = torch.utils.data.get_worker_info()\n",
    "        for i, file in enumerate(self.files):\n",
    "            if i%worker_info.num_workers==worker_info.id:\n",
    "                with open(file, 'r', encoding='utf-8') as f:\n",
    "                    mm = mmap.mmap(f.fileno(), 0, access=mmap.ACCESS_READ)\n",
    "\n",
    "                    text=mm.read(self.chunk_size)\n",
    "                    while(text):\n",
    "                        #cut up to whitespace\n",
    "                        last_word=text.rfind(b' ')\n",
    "                        if last_word ==-1:\n",
    "                            text=mm.read(self.chunk_size)\n",
    "                            continue\n",
    "                        \n",
    "                        mm.seek(mm.tell()-(len(text)-last_word)+1)\n",
    "                        \n",
    "                        text=text[:last_word].decode('utf-8', 'ignore')\n",
    "\n",
    "                        tokenized_sent = tokenizer.encode(text.translate(self.translator) ,add_special_tokens = False)\n",
    "                        # if len(tokenized_sent)<self.max_length:\n",
    "                        #     continue\n",
    "\n",
    "                        ids=tokenized_sent.ids\n",
    "                        np.random.shuffle(ids)\n",
    "                        ids=torch.tensor(ids, dtype= torch.int)      \n",
    "\n",
    "                        yield ids[[i for i in range(self.max_length) if i!=self.context_size]], ids[self.context_size].long()\n",
    "                                \n",
    "                        for chunk in tokenized_sent.overflowing:\n",
    "                            # if len(chunk)<self.max_length:\n",
    "                            #     continue\n",
    "                            ids=chunk.ids\n",
    "                            np.random.shuffle(ids)\n",
    "                            ids=torch.tensor(ids, dtype= torch.int)   \n",
    "                            yield ids[[i for i in range(self.max_length) if i!=self.context_size]], ids[self.context_size].long()\n",
    "                        \n",
    "                        text=mm.read(self.chunk_size)\n",
    "                        \n",
    "\n",
    "                    mm.close()\n",
    "\n",
    "       \n",
    "tokenizer.enable_truncation(max_length=max_length)\n",
    "tokenizer.enable_padding(length=max_length)\n",
    "batch_size = 4096\n",
    "train_data = SkipGramDataset(files, CONTEXT_SIZE)\n",
    "trainloader = torch.utils.data.DataLoader(train_data, batch_size=batch_size, num_workers=multiprocessing.cpu_count()-4)"
   ]
  },
  {
   "cell_type": "code",
   "execution_count": 17,
   "metadata": {},
   "outputs": [
    {
     "name": "stdout",
     "output_type": "stream",
     "text": [
      "['##يار على على العراق بخت قبض ثم و'] \n",
      "target: استولى\n"
     ]
    }
   ],
   "source": [
    "it=iter(trainloader)\n",
    "inp, out=next(it)\n",
    "print(tokenizer.decode_batch(inp.numpy())[9:10],'\\ntarget:', tokenizer.decode(out.numpy()[9:10]))"
   ]
  },
  {
   "cell_type": "code",
   "execution_count": null,
   "metadata": {},
   "outputs": [],
   "source": [
    "class SkipGram(nn.Module):\n",
    "    def __init__(self, vocab_size, embedding_dim, context_size):\n",
    "        super(SkipGram, self).__init__()\n",
    "        self.embeddings = nn.Embedding(vocab_size, embedding_dim)\n",
    "        self.linear1 = nn.Linear(2*context_size*embedding_dim, context_size*embedding_dim)\n",
    "        self.linear2 = nn.Linear(context_size*embedding_dim, 2*embedding_dim)\n",
    "        self.linear2_1 = nn.Linear(2*embedding_dim, embedding_dim)\n",
    "        self.linear3 = nn.Linear(embedding_dim, vocab_size)\n",
    "\n",
    "\n",
    "    def forward(self, inputs):\n",
    "        embeds = self.embeddings(inputs).reshape(len(inputs),-1) # (batch, sentence len, EMBID_DIM) -> (batch, len*EMBID_DIM)\n",
    "        out = F.relu(self.linear1(embeds))\n",
    "        out = F.relu(self.linear2(out))\n",
    "        out = F.relu(self.linear2_1(out))\n",
    "        out = self.linear3(out)\n",
    "        \n",
    "        return out\n",
    "\n",
    "class SkipGram(nn.Module):\n",
    "    def __init__(self, vocab_size, embedding_dim, context_size):\n",
    "        super(SkipGram, self).__init__()\n",
    "        self.embeddings = nn.Embedding(vocab_size, embedding_dim)\n",
    "        self.linear1 = nn.Linear(embedding_dim, vocab_size)\n",
    "        #self.linear2 = nn.Linear(embedding_dim, embedding_dim)\n",
    "        # self.linear2_1 = nn.Linear(2*embedding_dim, embedding_dim)\n",
    "        # self.linear3 = nn.Linear(embedding_dim, vocab_size)\n",
    "\n",
    "\n",
    "    def forward(self, inputs):\n",
    "        embeds = self.embeddings(inputs).reshape(-1,EMBEDDING_DIM) # (batch, sentence len, EMBID_DIM) -> (batch, len*EMBID_DIM)\n",
    "        out = F.relu(self.linear1(embeds))\n",
    "\n",
    "            \n",
    "        \n",
    "        return out\n",
    "\n",
    "least_loss=float('inf')\n",
    "\n",
    "word2vec = SkipGram(tokenizer.get_vocab_size(), EMBEDDING_DIM, CONTEXT_SIZE)\n",
    "loss_fun=nn.CrossEntropyLoss()\n",
    "# word2vec = nn.Embedding(tokenizer.get_vocab_size(), EMBEDDING_DIM)\n",
    "# embedding= nn.Embedding(tokenizer.get_vocab_size(), EMBEDDING_DIM)\n",
    "device= 'cuda' if torch.cuda.is_available() else 'cpu'\n",
    "word2vec=word2vec.to(device)\n",
    "# embedding=embedding.to(device)\n",
    "# optimizer = torch.optim.SGD([{\"params\":word2vec.parameters(), 'params':embedding.parameters()}], lr=0.01*(0.5)**0)\n",
    "optimizer = torch.optim.SGD(word2vec.parameters(), lr=0.01*(0.5)**0)\n",
    "scheduler = torch.optim.lr_scheduler.StepLR(optimizer, step_size=3, gamma=0.6)\n",
    "# word2vec.load_state_dict(torch.load(f'{CONTEXT_SIZE}_{EMBEDDING_DIM}_vocab64_best_word2vec.pt'))\n",
    "losses = []"
   ]
  },
  {
   "cell_type": "code",
   "execution_count": null,
   "metadata": {},
   "outputs": [
    {
     "name": "stderr",
     "output_type": "stream",
     "text": [
      "4257it [05:00, 14.18it/s]\n"
     ]
    },
    {
     "name": "stdout",
     "output_type": "stream",
     "text": [
      "Epoch:1 | train loss:9.430450815815082 | lr:[0.01]\n",
      "-------------------------------------------------------------------------------------------\n"
     ]
    },
    {
     "name": "stderr",
     "output_type": "stream",
     "text": [
      "4257it [05:01, 14.12it/s]\n"
     ]
    },
    {
     "name": "stdout",
     "output_type": "stream",
     "text": [
      "Epoch:2 | train loss:8.815110688481724 | lr:[0.01]\n",
      "-------------------------------------------------------------------------------------------\n"
     ]
    },
    {
     "name": "stderr",
     "output_type": "stream",
     "text": [
      "4257it [05:04, 14.00it/s]\n"
     ]
    },
    {
     "name": "stdout",
     "output_type": "stream",
     "text": [
      "Epoch:3 | train loss:8.66821293879037 | lr:[0.01]\n",
      "-------------------------------------------------------------------------------------------\n"
     ]
    },
    {
     "name": "stderr",
     "output_type": "stream",
     "text": [
      "4257it [05:02, 14.07it/s]\n"
     ]
    },
    {
     "name": "stdout",
     "output_type": "stream",
     "text": [
      "Epoch:4 | train loss:8.598709809995745 | lr:[0.006]\n",
      "-------------------------------------------------------------------------------------------\n"
     ]
    },
    {
     "name": "stderr",
     "output_type": "stream",
     "text": [
      "4257it [05:02, 14.07it/s]\n"
     ]
    },
    {
     "name": "stdout",
     "output_type": "stream",
     "text": [
      "Epoch:5 | train loss:8.562991486039273 | lr:[0.006]\n",
      "-------------------------------------------------------------------------------------------\n"
     ]
    },
    {
     "name": "stderr",
     "output_type": "stream",
     "text": [
      "4257it [05:03, 14.03it/s]\n"
     ]
    },
    {
     "name": "stdout",
     "output_type": "stream",
     "text": [
      "Epoch:6 | train loss:8.533311611110122 | lr:[0.006]\n",
      "-------------------------------------------------------------------------------------------\n"
     ]
    },
    {
     "name": "stderr",
     "output_type": "stream",
     "text": [
      "4257it [05:00, 14.15it/s]\n"
     ]
    },
    {
     "name": "stdout",
     "output_type": "stream",
     "text": [
      "Epoch:7 | train loss:8.512742042317479 | lr:[0.0036]\n",
      "-------------------------------------------------------------------------------------------\n"
     ]
    },
    {
     "name": "stderr",
     "output_type": "stream",
     "text": [
      "4257it [05:03, 14.03it/s]\n"
     ]
    },
    {
     "name": "stdout",
     "output_type": "stream",
     "text": [
      "Epoch:8 | train loss:8.50319526608292 | lr:[0.0036]\n",
      "-------------------------------------------------------------------------------------------\n"
     ]
    },
    {
     "name": "stderr",
     "output_type": "stream",
     "text": [
      "4257it [05:01, 14.11it/s]\n"
     ]
    },
    {
     "name": "stdout",
     "output_type": "stream",
     "text": [
      "Epoch:9 | train loss:8.491207898937258 | lr:[0.0036]\n",
      "-------------------------------------------------------------------------------------------\n"
     ]
    },
    {
     "name": "stderr",
     "output_type": "stream",
     "text": [
      "4257it [05:03, 14.05it/s]\n"
     ]
    },
    {
     "name": "stdout",
     "output_type": "stream",
     "text": [
      "Epoch:10 | train loss:8.48397021140183 | lr:[0.00216]\n",
      "-------------------------------------------------------------------------------------------\n"
     ]
    },
    {
     "name": "stderr",
     "output_type": "stream",
     "text": [
      "4257it [05:02, 14.06it/s]\n"
     ]
    },
    {
     "name": "stdout",
     "output_type": "stream",
     "text": [
      "Epoch:11 | train loss:8.475752739215194 | lr:[0.00216]\n",
      "-------------------------------------------------------------------------------------------\n"
     ]
    },
    {
     "name": "stderr",
     "output_type": "stream",
     "text": [
      "830it [00:57, 14.50it/s]\n"
     ]
    },
    {
     "ename": "KeyboardInterrupt",
     "evalue": "",
     "output_type": "error",
     "traceback": [
      "\u001b[0;31m---------------------------------------------------------------------------\u001b[0m\n",
      "\u001b[0;31mKeyboardInterrupt\u001b[0m                         Traceback (most recent call last)\n",
      "Cell \u001b[0;32mIn[6], line 21\u001b[0m\n",
      "\u001b[1;32m     18\u001b[0m     loss\u001b[38;5;241m.\u001b[39mbackward()\n",
      "\u001b[1;32m     19\u001b[0m     optimizer\u001b[38;5;241m.\u001b[39mstep()\n",
      "\u001b[0;32m---> 21\u001b[0m     total_loss \u001b[38;5;241m+\u001b[39m\u001b[38;5;241m=\u001b[39m \u001b[43mloss\u001b[49m\u001b[38;5;241;43m.\u001b[39;49m\u001b[43mitem\u001b[49m\u001b[43m(\u001b[49m\u001b[43m)\u001b[49m\n",
      "\u001b[1;32m     22\u001b[0m     total_num \u001b[38;5;241m+\u001b[39m\u001b[38;5;241m=\u001b[39m \u001b[38;5;241m1\u001b[39m\n",
      "\u001b[1;32m     25\u001b[0m \u001b[38;5;28;01mif\u001b[39;00m least_loss \u001b[38;5;241m>\u001b[39mloss\u001b[38;5;241m.\u001b[39mitem() :\n",
      "\n",
      "\u001b[0;31mKeyboardInterrupt\u001b[0m: "
     ]
    }
   ],
   "source": [
    "for epoch in range(12):\n",
    "    total_loss = 0\n",
    "    total_num=0\n",
    "    for context, target in tqdm.tqdm(trainloader):\n",
    "\n",
    "        context, target=context.to(device), target.to(device)\n",
    "        word2vec.zero_grad()\n",
    "        # embedding.zero_grad()\n",
    "\n",
    "        # context = word2vec(context)\n",
    "        # target = embedding(target)\n",
    "\n",
    "\n",
    "        # loss = - F.logsigmoid(torch.mean(context@target.T))\n",
    "        predictions= word2vec(context)\n",
    "        loss= loss_fun(predictions, target)\n",
    "\n",
    "        loss.backward()\n",
    "        optimizer.step()\n",
    "\n",
    "        total_loss += loss.item()\n",
    "        total_num += 1\n",
    "        \n",
    "    \n",
    "    if least_loss >loss.item() :\n",
    "        least_loss=loss.item()\n",
    "        torch.save(word2vec.state_dict(),f'checkpoints/{CONTEXT_SIZE}_{EMBEDDING_DIM}_vocab32_best_word2vec.pt')\n",
    "\n",
    "    total_loss/=total_num\n",
    "\n",
    "    print(f'Epoch:{epoch+1} | train loss:{total_loss} | lr:{scheduler.get_last_lr()}')\n",
    "    print('-------------------------------------------------------------------------------------------')\n",
    "    scheduler.step()\n",
    "    losses.append(total_loss)\n",
    "    "
   ]
  },
  {
   "cell_type": "code",
   "execution_count": null,
   "metadata": {},
   "outputs": [
    {
     "data": {
      "text/plain": [
       "[<matplotlib.lines.Line2D at 0x7ea342d44090>]"
      ]
     },
     "metadata": {},
     "output_type": "display_data"
    },
    {
     "data": {
      "image/png": "[encoded data removed]",
      "text/plain": [
       "<Figure size 640x480 with 1 Axes>"
      ]
     },
     "metadata": {},
     "output_type": "display_data"
    }
   ],
   "source": [
    "import matplotlib.pyplot as plt\n",
    "plt.plot(losses)"
   ]
  },
  {
   "cell_type": "code",
   "execution_count": null,
   "metadata": {},
   "outputs": [],
   "source": [
    "torch.save(word2vec.embeddings.state_dict(), f'checkpoints/gramEmbed_{CONTEXT_SIZE}_{EMBEDDING_DIM}_64k.pt')"
   ]
  },
  {
   "cell_type": "code",
   "execution_count": null,
   "metadata": {},
   "outputs": [],
   "source": [
    "# torch.save(word2vec.embeddings.state_dict(), 'context150_64k_gramEmbed.pt')\n",
    "#torch.save(embedding.state_dict(), 'target150_64k_gramEmbed.pt')"
   ]
  },
  {
   "cell_type": "code",
   "execution_count": null,
   "metadata": {},
   "outputs": [
    {
     "data": {
      "text/plain": [
       "[('التطورات', 0.9999999403953552),\n",
       " ('##ئر،', 0.3717387914657593),\n",
       " ('كلوريد', 0.341731458902359),\n",
       " ('دورة', 0.33476167917251587),\n",
       " ('وعندئذ', 0.32477977871894836),\n",
       " ('ورجاله', 0.3037056624889374),\n",
       " ('الياف', 0.29998016357421875),\n",
       " ('الأصبحي', 0.2958613634109497),\n",
       " ('اعتراضا', 0.2872800827026367),\n",
       " ('للنمو', 0.28694573044776917),\n",
       " ('بالحاجة', 0.2852295935153961),\n",
       " ('أرجع', 0.28469306230545044),\n",
       " ('تفع', 0.2837426960468292),\n",
       " ('المحصنة', 0.2833469808101654),\n",
       " ('بالعنف', 0.28251659870147705)]"
      ]
     },
     "metadata": {},
     "output_type": "display_data"
    }
   ],
   "source": [
    "tokenizer.no_padding()\n",
    "tok=tokenizer.encode('التطورات', add_special_tokens=False)\n",
    "embedding=nn.Embedding(tokenizer.get_vocab_size(),EMBEDDING_DIM)\n",
    "embedding.load_state_dict(torch.load(f'checkpoints/gramEmbed_{CONTEXT_SIZE}_{EMBEDDING_DIM}_64k.pt'))\n",
    "lo=F.cosine_similarity(embedding.weight , embedding(torch.tensor(tok.ids)), dim=-1)\n",
    "topk=lo.topk(15,sorted=True)\n",
    "[(tokenizer.id_to_token(idx), sim.item())  for (sim,idx) in zip(*topk)]"
   ]
  },
  {
   "cell_type": "markdown",
   "metadata": {},
   "source": [
    "# using gensim"
   ]
  },
  {
   "cell_type": "markdown",
   "metadata": {},
   "source": [
    "Here’s the revised README with two parts: \n",
    "\n",
    "---\n",
    "\n",
    "# Arabic Language Modeling Comparison\n",
    "\n",
    "This repository focuses on comparing different Arabic language modeling architectures and creating high-quality word embeddings. It uses the Arabic Wikipedia dataset (6.1 GB) for training.\n",
    "\n",
    "---\n",
    "\n",
    "## 1. Embedding Notebook\n",
    "\n",
    "The notebook includes two approaches for generating word embeddings for Arabic text:\n",
    "\n",
    "1. **Custom Skip-Gram Model:**\n",
    "   - Built using PyTorch with a focus on flexible tokenization and training pipelines.\n",
    "   - Negative sampling and multi-layer architecture for refining embeddings.\n",
    "\n",
    "2. **Gensim Word2Vec:**\n",
    "   - Pre-built functionalities for efficient embedding generation.\n",
    "   - Preferred for its superior performance and reduced computation time.\n",
    "\n",
    "### Key Notes:\n",
    "- Arabic tokenization is handled via the BERT WordPiece tokenizer.\n",
    "- Gensim embeddings were ultimately adopted for better quality and sampling.\n",
    "\n",
    "---\n",
    "\n",
    "## 2. Models Implemented\n",
    "\n",
    "This section describes four Arabic language models with ~14.7M parameters for fair comparison:\n",
    "\n",
    "1. **N-gram Model**\n",
    "   - Bigram (N=2) with basic smoothing.\n",
    "   - Serves as a baseline traditional statistical approach.\n",
    "\n",
    "2. **LSTM-based RNN**\n",
    "   - 7-layer architecture with word2vec embeddings.\n",
    "   - Uses shared embedding layers initialized with pre-trained vectors.\n",
    "\n",
    "3. **Transformer with Flash Attention**\n",
    "   - 6 transformer layers with Flash Attention for efficiency.\n",
    "   - Expansion ratio: 2.66.\n",
    "\n",
    "4. **Mamba State Space Model (SSM)**\n",
    "   - 6 Mamba layers with a state dimension of 64.\n",
    "   - Convolution width: 4, expansion factor: 3.\n",
    "\n",
    "---\n",
    "\n",
    "Let me know if further adjustments are needed!"
   ]
  },
  {
   "cell_type": "code",
   "execution_count": 2,
   "metadata": {},
   "outputs": [],
   "source": [
    "class SkipGramDataset(torch.utils.data.IterableDataset):\n",
    "    def __init__(self, files):\n",
    "        super(SkipGramDataset, self).__init__()\n",
    "        self.files = files\n",
    "        self.translator = str.maketrans('', '', string.punctuation+'،؟')\n",
    "        self.chunk_size = 8192\n",
    "\n",
    "    def __iter__(self):\n",
    "        worker_info = torch.utils.data.get_worker_info()\n",
    "        if worker_info is None:\n",
    "            # Single-process data loading, no need to split the workload\n",
    "            num_workers = 1\n",
    "            worker_id = 0\n",
    "        else:\n",
    "            # Multiprocess data loading, split workload\n",
    "            num_workers = worker_info.num_workers\n",
    "            worker_id = worker_info.id\n",
    "\n",
    "        # Calculate the total number of files and split the file list\n",
    "        num_files = len(self.files)\n",
    "        per_worker = int(np.ceil(num_files / float(num_workers)))\n",
    "        start_index = worker_id * per_worker\n",
    "        end_index = min(start_index + per_worker, num_files)\n",
    "        worker_files = self.files[start_index:end_index]\n",
    "\n",
    "        for file in worker_files:\n",
    "            with open(file, 'r', encoding='utf-8') as f:\n",
    "                mm = mmap.mmap(f.fileno(), 0, access=mmap.ACCESS_READ)\n",
    "                text = mm.read(self.chunk_size)\n",
    "                while text:\n",
    "                    # Cut up to last sentence\n",
    "                    last_word = text.rfind(b'.')\n",
    "                    if last_word == -1:\n",
    "                        text = mm.read(self.chunk_size)\n",
    "                        continue\n",
    "\n",
    "                    mm.seek(mm.tell() - (len(text) - last_word) + 1)\n",
    "                    \n",
    "                    text = text[:last_word].decode('utf-8', 'ignore')\n",
    "                    tokenized_sent = tokenizer.encode(text.translate(self.translator), add_special_tokens=False)\n",
    "                    yield tokenized_sent.tokens\n",
    "                            \n",
    "                    text = mm.read(self.chunk_size)\n",
    "\n",
    "                mm.close()\n",
    "\n"
   ]
  },
  {
   "cell_type": "code",
   "execution_count": 3,
   "metadata": {},
   "outputs": [
    {
     "name": "stdout",
     "output_type": "stream",
     "text": [
      "Model loss: 0.0\n",
      "Model loss: 0.0\n",
      "Model loss: 0.0\n",
      "Model loss: 0.0\n",
      "Model loss: 0.0\n",
      "Model loss: 0.0\n",
      "Model loss: 0.0\n",
      "Model loss: 0.0\n",
      "Model loss: 0.0\n",
      "Model loss: 0.0\n"
     ]
    }
   ],
   "source": [
    "class MonitorCallback(CallbackAny2Vec):\n",
    "    def __init__(self):\n",
    "        pass\n",
    "        \n",
    "\n",
    "    def on_epoch_end(self, model):\n",
    "        print(\"Model loss:\", model.get_latest_training_loss())  # print loss\n",
    "\n",
    "dataset=SkipGramDataset(files=files)\n",
    "loader = torch.utils.data.DataLoader(dataset, batch_size=None, num_workers=multiprocessing.cpu_count()-2)\n",
    "monitor = MonitorCallback()\n",
    "model = Word2Vec(loader, vector_size=EMBEDDING_DIM, window=CONTEXT_SIZE,sg=0, min_count=1,negative =CONTEXT_SIZE,\n",
    " workers=multiprocessing.cpu_count()-2, epochs = 10,  callbacks=[monitor])\n"
   ]
  },
  {
   "cell_type": "code",
   "execution_count": 4,
   "metadata": {},
   "outputs": [
    {
     "data": {
      "text/plain": [
       "[('التغييرات', 0.7684062719345093),\n",
       " ('التغيرات', 0.7484496235847473),\n",
       " ('الإصلاحات', 0.701462984085083),\n",
       " ('الأحداث', 0.6997469663619995),\n",
       " ('التقنيات', 0.6673924922943115),\n",
       " ('التحديات', 0.6652474999427795),\n",
       " ('النظريات', 0.660948634147644),\n",
       " ('الاضطرابات', 0.654200553894043),\n",
       " ('المحاولات', 0.6535345315933228),\n",
       " ('الأبحاث', 0.6521376967430115)]"
      ]
     },
     "execution_count": 4,
     "metadata": {},
     "output_type": "execute_result"
    }
   ],
   "source": [
    "model.wv.most_similar('التطورات')"
   ]
  },
  {
   "cell_type": "code",
   "execution_count": 5,
   "metadata": {},
   "outputs": [],
   "source": [
    "model.wv.save_word2vec_format(f'word2vec_{EMBEDDING_DIM}_c{CONTEXT_SIZE}_n{CONTEXT_SIZE}_cobw.bin')"
   ]
  },
  {
   "cell_type": "code",
   "execution_count": 6,
   "metadata": {},
   "outputs": [],
   "source": [
    "model.save(f\"word2vec_{EMBEDDING_DIM}_c{CONTEXT_SIZE}_n{CONTEXT_SIZE}_cobw.model\")"
   ]
  },
  {
   "cell_type": "code",
   "execution_count": 1,
   "metadata": {},
   "outputs": [],
   "source": [
    "import gensim\n",
    "model=gensim.models.KeyedVectors.load_word2vec_format('word2vec_100_c4_n4_cobw.bin')"
   ]
  },
  {
   "cell_type": "code",
   "execution_count": 8,
   "metadata": {},
   "outputs": [
    {
     "data": {
      "text/plain": [
       "(30802, 400)"
      ]
     },
     "execution_count": 8,
     "metadata": {},
     "output_type": "execute_result"
    }
   ],
   "source": [
    "model.wv.vectors.shape"
   ]
  },
  {
   "cell_type": "code",
   "execution_count": 28,
   "metadata": {},
   "outputs": [],
   "source": [
    "to_not_train= []\n",
    "emmb = nn.Embedding(tokenizer.get_vocab_size(), EMBEDDING_DIM)\n",
    "for word, idx in tokenizer.get_vocab().items():\n",
    "    if model.has_index_for(word):\n",
    "        with torch.no_grad():\n",
    "            emmb.weight[idx]=torch.tensor(model.get_vector(word), requires_grad=False)\n",
    "            to_not_train.append(idx)"
   ]
  },
  {
   "cell_type": "code",
   "execution_count": 27,
   "metadata": {},
   "outputs": [
    {
     "data": {
      "text/plain": [
       "3560"
      ]
     },
     "execution_count": 27,
     "metadata": {},
     "output_type": "execute_result"
    }
   ],
   "source": [
    "len(emmb.weight[to_train])"
   ]
  },
  {
   "cell_type": "code",
   "execution_count": 4,
   "metadata": {},
   "outputs": [
    {
     "data": {
      "text/plain": [
       "array([-0.20472111, -3.3895211 ,  1.1741596 , -2.758966  , -0.49752396,\n",
       "        1.5778034 , -1.3378326 ,  2.1563604 , -4.270031  , -1.9009985 ,\n",
       "       -0.6969086 ,  1.1093673 , -6.5776076 , -1.280534  , -0.1139402 ,\n",
       "       -0.642666  , -2.2392938 ,  0.76469636, -3.0001414 , -0.32915896,\n",
       "       -0.5227753 ,  3.0520904 ,  1.1666445 , -0.5226283 , -0.81326395,\n",
       "       -1.4541427 ,  2.2359586 ,  0.4217549 , -0.7159095 , -0.2957241 ,\n",
       "        0.39781645,  1.1278759 , -2.2413442 , -2.1767962 ,  2.5728707 ,\n",
       "       -3.6638067 , -2.5972884 , -1.0634416 , -7.3861885 ,  4.5244203 ,\n",
       "       -0.6011262 , -0.5380597 , -2.8606791 , -0.48120382, -0.7759757 ,\n",
       "        0.9963895 , -0.75014114, -3.4179347 , -1.835633  , -2.0320842 ,\n",
       "       -4.448882  , -1.6474705 ,  0.7691182 ,  2.7936232 ,  0.18091868,\n",
       "        4.657894  ,  0.7369478 , -1.1778038 , -3.0661979 ,  1.2417947 ,\n",
       "        1.3930253 , -0.40319785,  1.6342949 ,  2.868479  ,  3.7089403 ,\n",
       "       -1.6651189 , -2.8847299 ,  0.987151  ,  1.5686105 , -1.7166008 ,\n",
       "       -2.0335436 ,  0.37745747, -1.4566698 , -2.0162013 , -1.4450239 ,\n",
       "       -1.3920263 ,  2.073697  ,  0.98974586, -0.6517412 ,  0.75253254,\n",
       "       -2.5248995 ,  2.6176848 ,  2.3857632 , -1.1525285 ,  1.4436904 ,\n",
       "       -3.399314  ,  1.9674898 ,  1.8242863 , -3.3202333 , -0.71594733,\n",
       "        2.4932854 , -0.28641185, -3.9907072 ,  2.276248  , -2.147478  ,\n",
       "       -0.59782374, -0.53130335, -0.8335571 , -1.7310222 , -1.2105728 ],\n",
       "      dtype=float32)"
      ]
     },
     "execution_count": 4,
     "metadata": {},
     "output_type": "execute_result"
    }
   ],
   "source": [
    "model.get_in('التطورات')"
   ]
  },
  {
   "cell_type": "code",
   "execution_count": 22,
   "metadata": {},
   "outputs": [
    {
     "data": {
      "text/plain": [
       "29817"
      ]
     },
     "execution_count": 22,
     "metadata": {},
     "output_type": "execute_result"
    }
   ],
   "source": [
    "tokenizer.get_vocab()['التطورات']"
   ]
  },
  {
   "cell_type": "code",
   "execution_count": null,
   "metadata": {},
   "outputs": [],
   "source": [
    "model.wv.add_vector()"
   ]
  }
 ],
 "metadata": {
  "kernelspec": {
   "display_name": "MLenv",
   "language": "python",
   "name": "python3"
  },
  "language_info": {
   "codemirror_mode": {
    "name": "ipython",
    "version": 3
   },
   "file_extension": ".py",
   "mimetype": "text/x-python",
   "name": "python",
   "nbconvert_exporter": "python",
   "pygments_lexer": "ipython3",
   "version": "3.12.2"
  }
 },
 "nbformat": 4,
 "nbformat_minor": 2
}
